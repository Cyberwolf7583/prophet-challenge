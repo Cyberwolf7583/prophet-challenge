{
  "cells": [
    {
      "cell_type": "markdown",
      "metadata": {
        "id": "lLcqr6BM12Ty"
      },
      "source": [
        "# Forecasting Net Prophet\n",
        "\n",
        "You’re a growth analyst at [MercadoLibre](http://investor.mercadolibre.com/about-us). With over 200 million users, MercadoLibre is the most popular e-commerce site in Latin America. You've been tasked with analyzing the company's financial and user data in clever ways to make the company grow. So, you want to find out if the ability to predict search traffic can translate into the ability to successfully trade the stock.\n",
        "\n",
        "The instructions for this Challenge are divided into four steps, as follows:\n",
        "\n",
        "* Step 1: Find unusual patterns in hourly Google search traffic\n",
        "\n",
        "* Step 2: Mine the search traffic data for seasonality\n",
        "\n",
        "* Step 3: Relate the search traffic to stock price patterns\n",
        "\n",
        "* Step 4: Create a time series model with Prophet\n",
        "\n",
        "The following subsections detail these steps."
      ]
    },
    {
      "cell_type": "markdown",
      "metadata": {
        "id": "zvLM4Muf12T6"
      },
      "source": [
        "## Install and import the required libraries and dependencies"
      ]
    },
    {
      "cell_type": "code",
      "execution_count": 1,
      "metadata": {
        "colab": {
          "base_uri": "https://localhost:8080/"
        },
        "id": "jETJBREQ16et",
        "outputId": "7dca94a2-b37c-487f-f339-1399c20068be"
      },
      "outputs": [
        {
          "name": "stdout",
          "output_type": "stream",
          "text": [
            "Requirement already satisfied: prophet in c:\\users\\degar\\anaconda3\\envs\\dev\\lib\\site-packages (1.1.6)\n",
            "Requirement already satisfied: cmdstanpy>=1.0.4 in c:\\users\\degar\\anaconda3\\envs\\dev\\lib\\site-packages (from prophet) (1.2.4)\n",
            "Requirement already satisfied: numpy>=1.15.4 in c:\\users\\degar\\anaconda3\\envs\\dev\\lib\\site-packages (from prophet) (1.26.4)\n",
            "Requirement already satisfied: matplotlib>=2.0.0 in c:\\users\\degar\\anaconda3\\envs\\dev\\lib\\site-packages (from prophet) (3.9.2)\n",
            "Requirement already satisfied: pandas>=1.0.4 in c:\\users\\degar\\anaconda3\\envs\\dev\\lib\\site-packages (from prophet) (2.2.2)\n",
            "Requirement already satisfied: holidays<1,>=0.25 in c:\\users\\degar\\anaconda3\\envs\\dev\\lib\\site-packages (from prophet) (0.62)\n",
            "Requirement already satisfied: tqdm>=4.36.1 in c:\\users\\degar\\anaconda3\\envs\\dev\\lib\\site-packages (from prophet) (4.66.5)\n",
            "Requirement already satisfied: importlib-resources in c:\\users\\degar\\anaconda3\\envs\\dev\\lib\\site-packages (from prophet) (6.4.5)\n",
            "Requirement already satisfied: stanio<2.0.0,>=0.4.0 in c:\\users\\degar\\anaconda3\\envs\\dev\\lib\\site-packages (from cmdstanpy>=1.0.4->prophet) (0.5.1)\n",
            "Requirement already satisfied: python-dateutil in c:\\users\\degar\\anaconda3\\envs\\dev\\lib\\site-packages (from holidays<1,>=0.25->prophet) (2.9.0.post0)\n",
            "Requirement already satisfied: contourpy>=1.0.1 in c:\\users\\degar\\anaconda3\\envs\\dev\\lib\\site-packages (from matplotlib>=2.0.0->prophet) (1.2.0)\n",
            "Requirement already satisfied: cycler>=0.10 in c:\\users\\degar\\anaconda3\\envs\\dev\\lib\\site-packages (from matplotlib>=2.0.0->prophet) (0.11.0)\n",
            "Requirement already satisfied: fonttools>=4.22.0 in c:\\users\\degar\\anaconda3\\envs\\dev\\lib\\site-packages (from matplotlib>=2.0.0->prophet) (4.51.0)\n",
            "Requirement already satisfied: kiwisolver>=1.3.1 in c:\\users\\degar\\anaconda3\\envs\\dev\\lib\\site-packages (from matplotlib>=2.0.0->prophet) (1.4.4)\n",
            "Requirement already satisfied: packaging>=20.0 in c:\\users\\degar\\anaconda3\\envs\\dev\\lib\\site-packages (from matplotlib>=2.0.0->prophet) (24.1)\n",
            "Requirement already satisfied: pillow>=8 in c:\\users\\degar\\anaconda3\\envs\\dev\\lib\\site-packages (from matplotlib>=2.0.0->prophet) (10.4.0)\n",
            "Requirement already satisfied: pyparsing>=2.3.1 in c:\\users\\degar\\anaconda3\\envs\\dev\\lib\\site-packages (from matplotlib>=2.0.0->prophet) (3.1.2)\n",
            "Requirement already satisfied: pytz>=2020.1 in c:\\users\\degar\\anaconda3\\envs\\dev\\lib\\site-packages (from pandas>=1.0.4->prophet) (2024.1)\n",
            "Requirement already satisfied: tzdata>=2022.7 in c:\\users\\degar\\anaconda3\\envs\\dev\\lib\\site-packages (from pandas>=1.0.4->prophet) (2023.3)\n",
            "Requirement already satisfied: colorama in c:\\users\\degar\\anaconda3\\envs\\dev\\lib\\site-packages (from tqdm>=4.36.1->prophet) (0.4.6)\n",
            "Requirement already satisfied: six>=1.5 in c:\\users\\degar\\anaconda3\\envs\\dev\\lib\\site-packages (from python-dateutil->holidays<1,>=0.25->prophet) (1.16.0)\n"
          ]
        }
      ],
      "source": [
        "# Install the required libraries\n",
        "!pip install prophet"
      ]
    },
    {
      "cell_type": "code",
      "execution_count": 2,
      "metadata": {
        "id": "qnzrTQf512T7"
      },
      "outputs": [],
      "source": [
        "# Import the required libraries and dependencies\n",
        "import pandas as pd\n",
        "from prophet import Prophet\n",
        "import datetime as dt\n",
        "import numpy as np\n",
        "%matplotlib inline\n",
        "import matplotlib.pyplot as plt\n"
      ]
    },
    {
      "cell_type": "markdown",
      "metadata": {
        "id": "lNPLnTzk12T-"
      },
      "source": [
        "## Step 1: Find Unusual Patterns in Hourly Google Search Traffic\n",
        "\n",
        "The data science manager asks if the Google search traffic for the company links to any financial events at the company. Or, does the search traffic data just present random noise? To answer this question, pick out any unusual patterns in the Google search data for the company, and connect them to the corporate financial events.\n",
        "\n",
        "To do so, complete the following steps:\n",
        "\n",
        "1. Read the search data into a DataFrame, and then slice the data to just the month of May 2020. (During this month, MercadoLibre released its quarterly financial results.) Visualize the results. Do any unusual patterns exist?\n",
        "\n",
        "2. Calculate the total search traffic for the month, and then compare the value to the monthly median across all months. Did the Google search traffic increase during the month that MercadoLibre released its financial results?\n"
      ]
    },
    {
      "cell_type": "markdown",
      "metadata": {
        "id": "VgT_j6J412T-"
      },
      "source": [
        "#### Step 1: Read the search data into a DataFrame, and then slice the data to just the month of May 2020. (During this month, MercadoLibre released its quarterly financial results.) Visualize the results. Do any unusual patterns exist?"
      ]
    },
    {
      "cell_type": "code",
      "execution_count": 3,
      "metadata": {
        "colab": {
          "base_uri": "https://localhost:8080/",
          "height": 512
        },
        "id": "cztyn4NK12T_",
        "outputId": "1a513925-8f0d-427c-dd3f-71b2560fb361"
      },
      "outputs": [
        {
          "name": "stderr",
          "output_type": "stream",
          "text": [
            "C:\\Users\\degar\\AppData\\Local\\Temp\\ipykernel_14396\\1669825240.py:4: UserWarning: Could not infer format, so each element will be parsed individually, falling back to `dateutil`. To ensure parsing is consistent and as-expected, please specify a format.\n",
            "  df_mercado_trends = pd.read_csv(\n"
          ]
        },
        {
          "data": {
            "text/html": [
              "<div>\n",
              "<style scoped>\n",
              "    .dataframe tbody tr th:only-of-type {\n",
              "        vertical-align: middle;\n",
              "    }\n",
              "\n",
              "    .dataframe tbody tr th {\n",
              "        vertical-align: top;\n",
              "    }\n",
              "\n",
              "    .dataframe thead th {\n",
              "        text-align: right;\n",
              "    }\n",
              "</style>\n",
              "<table border=\"1\" class=\"dataframe\">\n",
              "  <thead>\n",
              "    <tr style=\"text-align: right;\">\n",
              "      <th></th>\n",
              "      <th>Search Trends</th>\n",
              "    </tr>\n",
              "    <tr>\n",
              "      <th>Date</th>\n",
              "      <th></th>\n",
              "    </tr>\n",
              "  </thead>\n",
              "  <tbody>\n",
              "    <tr>\n",
              "      <th>2016-06-01 00:00:00</th>\n",
              "      <td>97</td>\n",
              "    </tr>\n",
              "    <tr>\n",
              "      <th>2016-06-01 01:00:00</th>\n",
              "      <td>92</td>\n",
              "    </tr>\n",
              "    <tr>\n",
              "      <th>2016-06-01 02:00:00</th>\n",
              "      <td>76</td>\n",
              "    </tr>\n",
              "    <tr>\n",
              "      <th>2016-06-01 03:00:00</th>\n",
              "      <td>60</td>\n",
              "    </tr>\n",
              "    <tr>\n",
              "      <th>2016-06-01 04:00:00</th>\n",
              "      <td>38</td>\n",
              "    </tr>\n",
              "  </tbody>\n",
              "</table>\n",
              "</div>"
            ],
            "text/plain": [
              "                     Search Trends\n",
              "Date                              \n",
              "2016-06-01 00:00:00             97\n",
              "2016-06-01 01:00:00             92\n",
              "2016-06-01 02:00:00             76\n",
              "2016-06-01 03:00:00             60\n",
              "2016-06-01 04:00:00             38"
            ]
          },
          "metadata": {},
          "output_type": "display_data"
        },
        {
          "data": {
            "text/html": [
              "<div>\n",
              "<style scoped>\n",
              "    .dataframe tbody tr th:only-of-type {\n",
              "        vertical-align: middle;\n",
              "    }\n",
              "\n",
              "    .dataframe tbody tr th {\n",
              "        vertical-align: top;\n",
              "    }\n",
              "\n",
              "    .dataframe thead th {\n",
              "        text-align: right;\n",
              "    }\n",
              "</style>\n",
              "<table border=\"1\" class=\"dataframe\">\n",
              "  <thead>\n",
              "    <tr style=\"text-align: right;\">\n",
              "      <th></th>\n",
              "      <th>Search Trends</th>\n",
              "    </tr>\n",
              "    <tr>\n",
              "      <th>Date</th>\n",
              "      <th></th>\n",
              "    </tr>\n",
              "  </thead>\n",
              "  <tbody>\n",
              "    <tr>\n",
              "      <th>2020-09-07 20:00:00</th>\n",
              "      <td>71</td>\n",
              "    </tr>\n",
              "    <tr>\n",
              "      <th>2020-09-07 21:00:00</th>\n",
              "      <td>83</td>\n",
              "    </tr>\n",
              "    <tr>\n",
              "      <th>2020-09-07 22:00:00</th>\n",
              "      <td>96</td>\n",
              "    </tr>\n",
              "    <tr>\n",
              "      <th>2020-09-07 23:00:00</th>\n",
              "      <td>97</td>\n",
              "    </tr>\n",
              "    <tr>\n",
              "      <th>2020-09-08 00:00:00</th>\n",
              "      <td>96</td>\n",
              "    </tr>\n",
              "  </tbody>\n",
              "</table>\n",
              "</div>"
            ],
            "text/plain": [
              "                     Search Trends\n",
              "Date                              \n",
              "2020-09-07 20:00:00             71\n",
              "2020-09-07 21:00:00             83\n",
              "2020-09-07 22:00:00             96\n",
              "2020-09-07 23:00:00             97\n",
              "2020-09-08 00:00:00             96"
            ]
          },
          "metadata": {},
          "output_type": "display_data"
        }
      ],
      "source": [
        "# Store the data in a Pandas DataFrame\n",
        "# Set the \"Date\" column as the Datetime Index.\n",
        "\n",
        "df_mercado_trends = pd.read_csv(\n",
        "    \"https://static.bc-edx.com/ai/ail-v-1-0/m8/lms/datasets/google_hourly_search_trends.csv\",\n",
        "    index_col='Date',\n",
        "    parse_dates=True\n",
        ").dropna()\n",
        "\n",
        "# Review the first and last five rows of the DataFrame\n",
        "display(df_mercado_trends.head())\n",
        "display(df_mercado_trends.tail())"
      ]
    },
    {
      "cell_type": "code",
      "execution_count": 4,
      "metadata": {
        "colab": {
          "base_uri": "https://localhost:8080/"
        },
        "id": "sfm0FSiF12T_",
        "outputId": "d4d5370f-7085-4945-da17-d19c53a4fc57"
      },
      "outputs": [
        {
          "name": "stdout",
          "output_type": "stream",
          "text": [
            "<class 'pandas.core.frame.DataFrame'>\n",
            "DatetimeIndex: 37106 entries, 2016-06-01 00:00:00 to 2020-09-08 00:00:00\n",
            "Data columns (total 1 columns):\n",
            " #   Column         Non-Null Count  Dtype\n",
            "---  ------         --------------  -----\n",
            " 0   Search Trends  37106 non-null  int64\n",
            "dtypes: int64(1)\n",
            "memory usage: 579.8 KB\n"
          ]
        }
      ],
      "source": [
        "# Review the data types of the DataFrame using the info function\n",
        "df_mercado_trends.info()"
      ]
    },
    {
      "cell_type": "code",
      "execution_count": 5,
      "metadata": {
        "colab": {
          "base_uri": "https://localhost:8080/",
          "height": 630
        },
        "id": "3HSQMhNK12T_",
        "outputId": "3695562a-4591-4546-f3d3-7bbed9e086f1"
      },
      "outputs": [
        {
          "data": {
            "text/plain": [
              "<Axes: title={'center': 'MercadoLibre Search Trends - May 2020'}, xlabel='Date'>"
            ]
          },
          "execution_count": 5,
          "metadata": {},
          "output_type": "execute_result"
        }
      ],
      "source": [
        "# Slice the DataFrame to just the month of May 2020\n",
        "may_2020_data = df_mercado_trends.loc['2020-05-01':'2020-05-31']\n",
        "\n",
        "# Plot to visualize the data for May 2020\n",
        "may_2020_data.plot(title=\"MercadoLibre Search Trends - May 2020\", figsize=(10, 6))"
      ]
    },
    {
      "cell_type": "markdown",
      "metadata": {
        "id": "eo9y14TY12UA"
      },
      "source": [
        "#### Step 2: Calculate the total search traffic for the month, and then compare the value to the monthly median across all months. Did the Google search traffic increase during the month that MercadoLibre released its financial results?"
      ]
    },
    {
      "cell_type": "code",
      "execution_count": 6,
      "metadata": {
        "colab": {
          "base_uri": "https://localhost:8080/"
        },
        "id": "EimOMwen12UA",
        "outputId": "7110e0ff-5900-4072-f49d-d2d1eb754bbb"
      },
      "outputs": [
        {
          "name": "stdout",
          "output_type": "stream",
          "text": [
            "Total search traffic for May 2020: 38181\n"
          ]
        }
      ],
      "source": [
        "# Calculate the sum of the total search traffic for May 2020\n",
        "traffic_may_2020 = may_2020_data['Search Trends'].sum()\n",
        "\n",
        "# View the traffic_may_2020 value\n",
        "print(f\"Total search traffic for May 2020: {traffic_may_2020}\")"
      ]
    },
    {
      "cell_type": "code",
      "execution_count": 7,
      "metadata": {
        "colab": {
          "base_uri": "https://localhost:8080/"
        },
        "id": "w4B9WQ2O12UB",
        "outputId": "661f10c4-956c-4202-a245-3aeb02614859"
      },
      "outputs": [
        {
          "name": "stdout",
          "output_type": "stream",
          "text": [
            "The median monthly traffic is: 35172.5\n"
          ]
        }
      ],
      "source": [
        "# Calcluate the monhtly median search traffic across all months\n",
        "# Group the DataFrame by index year and then index month, chain the sum and then the median functions\n",
        "median_monthly_traffic = df_mercado_trends['Search Trends'].groupby([df_mercado_trends.index.year, df_mercado_trends.index.month]).sum().median()\n",
        "\n",
        "# View the median_monthly_traffic value\n",
        "print(f\"The median monthly traffic is: {median_monthly_traffic}\")\n"
      ]
    },
    {
      "cell_type": "code",
      "execution_count": 8,
      "metadata": {
        "colab": {
          "base_uri": "https://localhost:8080/"
        },
        "id": "SaUKnq1e12UB",
        "outputId": "a755ce9e-bd4b-41af-d022-fc0d6997a895"
      },
      "outputs": [
        {
          "data": {
            "text/plain": [
              "1.0855355746677091"
            ]
          },
          "execution_count": 8,
          "metadata": {},
          "output_type": "execute_result"
        }
      ],
      "source": [
        "# Compare the seach traffic for the month of May 2020 to the overall monthly median value\n",
        "traffic_may_2020/median_monthly_traffic"
      ]
    },
    {
      "cell_type": "markdown",
      "metadata": {
        "id": "8FzTTGQ-12UC"
      },
      "source": [
        "##### Answer the following question:"
      ]
    },
    {
      "cell_type": "markdown",
      "metadata": {
        "id": "UG979D-v12UC"
      },
      "source": [
        "**Question:** Did the Google search traffic increase during the month that MercadoLibre released its financial results?\n",
        "\n",
        "**Answer:**Yes, the Google search traffic did increase during the month that MercadoLibre released its financial results. The total search traffic for May 2020 was **38,181**, which is approximately **8.6% higher** than the monthly median search traffic of **35,172.5** across all months. This indicates a notable increase in search interest during that period."
      ]
    },
    {
      "cell_type": "markdown",
      "metadata": {
        "id": "xvwtfvC112UC"
      },
      "source": [
        "## Step 2: Mine the Search Traffic Data for Seasonality\n",
        "\n",
        "Marketing realizes that they can use the hourly search data, too. If they can track and predict interest in the company and its platform for any time of day, they can focus their marketing efforts around the times that have the most traffic. This will get a greater return on investment (ROI) from their marketing budget.\n",
        "\n",
        "To that end, you want to mine the search traffic data for predictable seasonal patterns of interest in the company. To do so, complete the following steps:\n",
        "\n",
        "1. Group the hourly search data to plot the average traffic by the hour of day. Does the search traffic peak at a particular time of day or is it relatively consistent?\n",
        "\n",
        "2. Group the hourly search data to plot the average traffic by the day of the week (for example, Monday vs. Friday). Does the search traffic get busiest on any particular day of the week?\n",
        "\n",
        "3. Group the hourly search data to plot the average traffic by the week of the year. Does the search traffic tend to increase during the winter holiday period (weeks 40 through 52)?\n"
      ]
    },
    {
      "cell_type": "markdown",
      "metadata": {
        "id": "ry-VzN48g7Ru"
      },
      "source": [
        "#### Step 1: Group the hourly search data to plot the average traffic by the hour of the day."
      ]
    },
    {
      "cell_type": "code",
      "execution_count": 17,
      "metadata": {
        "colab": {
          "base_uri": "https://localhost:8080/",
          "height": 489
        },
        "id": "gPxzc3Tmg7Ru",
        "outputId": "8137c364-1f93-4b91-9c22-b0709558addb"
      },
      "outputs": [
        {
          "data": {
            "image/png": "[encoded data removed]",
            "text/plain": [
              "<Figure size 1000x600 with 1 Axes>"
            ]
          },
          "metadata": {},
          "output_type": "display_data"
        },
        {
          "data": {
            "image/png": "[encoded data removed]",
            "text/plain": [
              "<Figure size 1000x600 with 1 Axes>"
            ]
          },
          "metadata": {},
          "output_type": "display_data"
        }
      ],
      "source": [
        "# Group the hourly search data to plot the average traffic by the day of week\n",
        "hourly_search_trends = df_mercado_trends['Search Trends'].groupby(df_mercado_trends.index.hour).mean()\n",
        "\n",
        "# Plot the hourly search trends\n",
        "plt.figure(figsize=(10, 6))  # Add this to control the figure size\n",
        "hourly_search_trends.plot(kind='bar', title=\"Average Hourly Search Trends\")\n",
        "plt.xlabel(\"Hour of Day\")\n",
        "plt.ylabel(\"Average Search Trends\")\n",
        "plt.tight_layout()  # Ensures labels don't get cut off\n",
        "plt.show()\n"
      ]
    },
    {
      "cell_type": "markdown",
      "metadata": {
        "id": "fBoKE-Kx12UC"
      },
      "source": [
        "#### Step 2: Group the hourly search data to plot the average traffic by the day of the week (for example, Monday vs. Friday)."
      ]
    },
    {
      "cell_type": "code",
      "execution_count": 18,
      "metadata": {
        "colab": {
          "base_uri": "https://localhost:8080/",
          "height": 489
        },
        "id": "c3z3n5Mg12UD",
        "outputId": "2ce97935-de55-4735-f73e-ea8a0b911381"
      },
      "outputs": [
        {
          "data": {
            "text/plain": [
              "<Axes: title={'center': 'Average Daily Search Trends'}, xlabel='Day of Week', ylabel='Search Trends'>"
            ]
          },
          "execution_count": 18,
          "metadata": {},
          "output_type": "execute_result"
        }
      ],
      "source": [
        "# Group the hourly search data to plot the average traffic by the day of week, using `df.index.isocalendar().day`.\n",
        "daily_search_trends = df_mercado_trends['Search Trends'].groupby(df_mercado_trends.index.isocalendar().day).mean()\n",
        "\n",
        "# Plot the daily search trends\n",
        "daily_search_trends.plot(title=\"Average Daily Search Trends\", xlabel=\"Day of Week\", ylabel=\"Search Trends\")"
      ]
    },
    {
      "cell_type": "markdown",
      "metadata": {
        "id": "xm3gLNVRg7Rv"
      },
      "source": [
        "#### Step 3: Group the hourly search data to plot the average traffic by the week of the year."
      ]
    },
    {
      "cell_type": "code",
      "execution_count": 19,
      "metadata": {
        "colab": {
          "base_uri": "https://localhost:8080/",
          "height": 581
        },
        "id": "C8YtZOJTg7Rv",
        "outputId": "f5acfbfd-61e7-4218-d143-01311bf20b63"
      },
      "outputs": [
        {
          "data": {
            "text/plain": [
              "<Axes: title={'center': 'Average Weekly Search Trends'}, xlabel='Week of Year', ylabel='Search Trends'>"
            ]
          },
          "execution_count": 19,
          "metadata": {},
          "output_type": "execute_result"
        }
      ],
      "source": [
        "# Group the hourly search data to plot the average traffic by the week of the year using `df.index.isocalendar().week`.\n",
        "daily_search_trends = df_mercado_trends['Search Trends'].groupby(df_mercado_trends.index.isocalendar().week).mean()\n",
        "# Plot the weekly search trends\n",
        "daily_search_trends.plot(title=\"Average Weekly Search Trends\", xlabel=\"Week of Year\", ylabel=\"Search Trends\", figsize=(10, 6))"
      ]
    },
    {
      "cell_type": "markdown",
      "metadata": {
        "id": "U8rZ9rS612UE"
      },
      "source": [
        "##### Answer the following question:"
      ]
    },
    {
      "cell_type": "markdown",
      "metadata": {
        "id": "ZneaiiW-12UE"
      },
      "source": [
        "**Question:** Are there any time based trends that you can see in the data?\n",
        "\n",
        "**Answer:** Yes, there are several noticable \"time-based\" trends in the MercadoLibre search traffic data and the graphs that produced above.\n",
        "\n",
        "\"Hourly\":\n",
        "  Filtered through the graph and concluded that traffic peaks between 12 PM and 4 PM.\n",
        "\n",
        "\"Weekly\":\n",
        "  Monday has the highest \"search traffic\" in the graph above, with a small decrease throughout the week.\n",
        "\n",
        "\"Seasonal\":\n",
        "  There is a seasonal trend of increased search traffic between the 40 and 52 week marks on the line graph, corresponding to the winter holiday period.\n",
        "\n",
        "\"Summary\":\n",
        "  Overall these trends can be valuable insights for the company's marketing and operational strategies. By understanding the patterns in user behavior, resources can be allocated more effectively to maximize engagement and potential revenue."
      ]
    },
    {
      "cell_type": "code",
      "execution_count": 60,
      "metadata": {
        "id": "sqCrZyZiZV_4"
      },
      "outputs": [],
      "source": []
    },
    {
      "cell_type": "markdown",
      "metadata": {
        "id": "fI9MdNR512UG"
      },
      "source": [
        "## Step 3: Relate the Search Traffic to Stock Price Patterns\n",
        "\n",
        "You mention your work on the search traffic data during a meeting with people in the finance group at the company. They want to know if any relationship between the search data and the company stock price exists, and they ask if you can investigate.\n",
        "\n",
        "To do so, complete the following steps:\n",
        "\n",
        "1. Read in and plot the stock price data. Concatenate the stock price data to the search data in a single DataFrame.\n",
        "\n",
        "2. Market events emerged during the year of 2020 that many companies found difficult. But, after the initial shock to global financial markets, new customers and revenue increased for e-commerce platforms. Slice the data to just the first half of 2020 (`2020-01` to `2020-06` in the DataFrame), and then plot the data. Do both time series indicate a common trend that’s consistent with this narrative?\n",
        "\n",
        "3. Create a new column in the DataFrame named “Lagged Search Trends” that offsets, or shifts, the search traffic by one hour. Create two additional columns:\n",
        "\n",
        "    * “Stock Volatility”, which holds an exponentially weighted four-hour rolling average of the company’s stock volatility\n",
        "\n",
        "    * “Hourly Stock Return”, which holds the percent change of the company's stock price on an hourly basis\n",
        "\n",
        "4. Review the time series correlation, and then answer the following question: Does a predictable relationship exist between the lagged search traffic and the stock volatility or between the lagged search traffic and the stock price returns?\n"
      ]
    },
    {
      "cell_type": "markdown",
      "metadata": {
        "id": "OqkIVUU_12UG"
      },
      "source": [
        "#### Step 1: Read in and plot the stock price data. Concatenate the stock price data to the search data in a single DataFrame."
      ]
    },
    {
      "cell_type": "code",
      "execution_count": 20,
      "metadata": {
        "colab": {
          "base_uri": "https://localhost:8080/",
          "height": 457
        },
        "id": "rKAzc9ew12UG",
        "outputId": "b83911cb-4ff1-4fda-d711-1d4eecc68406"
      },
      "outputs": [
        {
          "data": {
            "text/html": [
              "<div>\n",
              "<style scoped>\n",
              "    .dataframe tbody tr th:only-of-type {\n",
              "        vertical-align: middle;\n",
              "    }\n",
              "\n",
              "    .dataframe tbody tr th {\n",
              "        vertical-align: top;\n",
              "    }\n",
              "\n",
              "    .dataframe thead th {\n",
              "        text-align: right;\n",
              "    }\n",
              "</style>\n",
              "<table border=\"1\" class=\"dataframe\">\n",
              "  <thead>\n",
              "    <tr style=\"text-align: right;\">\n",
              "      <th></th>\n",
              "      <th>close</th>\n",
              "    </tr>\n",
              "    <tr>\n",
              "      <th>date</th>\n",
              "      <th></th>\n",
              "    </tr>\n",
              "  </thead>\n",
              "  <tbody>\n",
              "    <tr>\n",
              "      <th>2015-01-02 09:00:00</th>\n",
              "      <td>127.67</td>\n",
              "    </tr>\n",
              "    <tr>\n",
              "      <th>2015-01-02 10:00:00</th>\n",
              "      <td>125.44</td>\n",
              "    </tr>\n",
              "    <tr>\n",
              "      <th>2015-01-02 11:00:00</th>\n",
              "      <td>125.57</td>\n",
              "    </tr>\n",
              "    <tr>\n",
              "      <th>2015-01-02 12:00:00</th>\n",
              "      <td>125.40</td>\n",
              "    </tr>\n",
              "    <tr>\n",
              "      <th>2015-01-02 13:00:00</th>\n",
              "      <td>125.17</td>\n",
              "    </tr>\n",
              "  </tbody>\n",
              "</table>\n",
              "</div>"
            ],
            "text/plain": [
              "                      close\n",
              "date                       \n",
              "2015-01-02 09:00:00  127.67\n",
              "2015-01-02 10:00:00  125.44\n",
              "2015-01-02 11:00:00  125.57\n",
              "2015-01-02 12:00:00  125.40\n",
              "2015-01-02 13:00:00  125.17"
            ]
          },
          "metadata": {},
          "output_type": "display_data"
        },
        {
          "data": {
            "text/html": [
              "<div>\n",
              "<style scoped>\n",
              "    .dataframe tbody tr th:only-of-type {\n",
              "        vertical-align: middle;\n",
              "    }\n",
              "\n",
              "    .dataframe tbody tr th {\n",
              "        vertical-align: top;\n",
              "    }\n",
              "\n",
              "    .dataframe thead th {\n",
              "        text-align: right;\n",
              "    }\n",
              "</style>\n",
              "<table border=\"1\" class=\"dataframe\">\n",
              "  <thead>\n",
              "    <tr style=\"text-align: right;\">\n",
              "      <th></th>\n",
              "      <th>close</th>\n",
              "    </tr>\n",
              "    <tr>\n",
              "      <th>date</th>\n",
              "      <th></th>\n",
              "    </tr>\n",
              "  </thead>\n",
              "  <tbody>\n",
              "    <tr>\n",
              "      <th>2020-07-31 11:00:00</th>\n",
              "      <td>1105.780</td>\n",
              "    </tr>\n",
              "    <tr>\n",
              "      <th>2020-07-31 12:00:00</th>\n",
              "      <td>1087.925</td>\n",
              "    </tr>\n",
              "    <tr>\n",
              "      <th>2020-07-31 13:00:00</th>\n",
              "      <td>1095.800</td>\n",
              "    </tr>\n",
              "    <tr>\n",
              "      <th>2020-07-31 14:00:00</th>\n",
              "      <td>1110.650</td>\n",
              "    </tr>\n",
              "    <tr>\n",
              "      <th>2020-07-31 15:00:00</th>\n",
              "      <td>1122.510</td>\n",
              "    </tr>\n",
              "  </tbody>\n",
              "</table>\n",
              "</div>"
            ],
            "text/plain": [
              "                        close\n",
              "date                         \n",
              "2020-07-31 11:00:00  1105.780\n",
              "2020-07-31 12:00:00  1087.925\n",
              "2020-07-31 13:00:00  1095.800\n",
              "2020-07-31 14:00:00  1110.650\n",
              "2020-07-31 15:00:00  1122.510"
            ]
          },
          "metadata": {},
          "output_type": "display_data"
        }
      ],
      "source": [
        "# Upload the \"mercado_stock_price.csv\" file into Colab, then store in a Pandas DataFrame\n",
        "# Set the \"date\" column as the Datetime Index.\n",
        "df_mercado_stock = pd.read_csv(\n",
        "    \"https://static.bc-edx.com/ai/ail-v-1-0/m8/lms/datasets/mercado_stock_price.csv\",\n",
        "    index_col=\"date\",\n",
        "    parse_dates=True\n",
        ").dropna()\n",
        "\n",
        "# View the first and last five rows of the DataFrame\n",
        "display(df_mercado_stock.head())\n",
        "display(df_mercado_stock.tail())"
      ]
    },
    {
      "cell_type": "code",
      "execution_count": 21,
      "metadata": {
        "colab": {
          "base_uri": "https://localhost:8080/",
          "height": 543
        },
        "id": "gPMCkpIB12UH",
        "outputId": "e9a0d1b0-0663-436c-a551-4962739ce6ea"
      },
      "outputs": [
        {
          "data": {
            "text/plain": [
              "<Axes: title={'center': 'MercadoLibre Closing Price'}, xlabel='date', ylabel='Search Trends'>"
            ]
          },
          "execution_count": 21,
          "metadata": {},
          "output_type": "execute_result"
        }
      ],
      "source": [
        "# Visualize the closing price of the df_mercado_stock DataFrame\n",
        "df_mercado_stock['close'].plot(title='MercadoLibre Closing Price', figsize=(10, 6))"
      ]
    },
    {
      "cell_type": "code",
      "execution_count": 22,
      "metadata": {
        "colab": {
          "base_uri": "https://localhost:8080/",
          "height": 395
        },
        "id": "5Mt44bD512UH",
        "outputId": "f66fb404-ac9a-4422-ac96-b2f0be4788ed"
      },
      "outputs": [
        {
          "data": {
            "text/html": [
              "<div>\n",
              "<style scoped>\n",
              "    .dataframe tbody tr th:only-of-type {\n",
              "        vertical-align: middle;\n",
              "    }\n",
              "\n",
              "    .dataframe tbody tr th {\n",
              "        vertical-align: top;\n",
              "    }\n",
              "\n",
              "    .dataframe thead th {\n",
              "        text-align: right;\n",
              "    }\n",
              "</style>\n",
              "<table border=\"1\" class=\"dataframe\">\n",
              "  <thead>\n",
              "    <tr style=\"text-align: right;\">\n",
              "      <th></th>\n",
              "      <th>close</th>\n",
              "      <th>Search Trends</th>\n",
              "    </tr>\n",
              "  </thead>\n",
              "  <tbody>\n",
              "    <tr>\n",
              "      <th>2016-06-01 09:00:00</th>\n",
              "      <td>135.16</td>\n",
              "      <td>6.0</td>\n",
              "    </tr>\n",
              "    <tr>\n",
              "      <th>2016-06-01 10:00:00</th>\n",
              "      <td>136.63</td>\n",
              "      <td>12.0</td>\n",
              "    </tr>\n",
              "    <tr>\n",
              "      <th>2016-06-01 11:00:00</th>\n",
              "      <td>136.56</td>\n",
              "      <td>22.0</td>\n",
              "    </tr>\n",
              "    <tr>\n",
              "      <th>2016-06-01 12:00:00</th>\n",
              "      <td>136.42</td>\n",
              "      <td>33.0</td>\n",
              "    </tr>\n",
              "    <tr>\n",
              "      <th>2016-06-01 13:00:00</th>\n",
              "      <td>136.10</td>\n",
              "      <td>40.0</td>\n",
              "    </tr>\n",
              "  </tbody>\n",
              "</table>\n",
              "</div>"
            ],
            "text/plain": [
              "                      close  Search Trends\n",
              "2016-06-01 09:00:00  135.16            6.0\n",
              "2016-06-01 10:00:00  136.63           12.0\n",
              "2016-06-01 11:00:00  136.56           22.0\n",
              "2016-06-01 12:00:00  136.42           33.0\n",
              "2016-06-01 13:00:00  136.10           40.0"
            ]
          },
          "metadata": {},
          "output_type": "display_data"
        },
        {
          "data": {
            "text/html": [
              "<div>\n",
              "<style scoped>\n",
              "    .dataframe tbody tr th:only-of-type {\n",
              "        vertical-align: middle;\n",
              "    }\n",
              "\n",
              "    .dataframe tbody tr th {\n",
              "        vertical-align: top;\n",
              "    }\n",
              "\n",
              "    .dataframe thead th {\n",
              "        text-align: right;\n",
              "    }\n",
              "</style>\n",
              "<table border=\"1\" class=\"dataframe\">\n",
              "  <thead>\n",
              "    <tr style=\"text-align: right;\">\n",
              "      <th></th>\n",
              "      <th>close</th>\n",
              "      <th>Search Trends</th>\n",
              "    </tr>\n",
              "  </thead>\n",
              "  <tbody>\n",
              "    <tr>\n",
              "      <th>2020-07-31 11:00:00</th>\n",
              "      <td>1105.780</td>\n",
              "      <td>20.0</td>\n",
              "    </tr>\n",
              "    <tr>\n",
              "      <th>2020-07-31 12:00:00</th>\n",
              "      <td>1087.925</td>\n",
              "      <td>32.0</td>\n",
              "    </tr>\n",
              "    <tr>\n",
              "      <th>2020-07-31 13:00:00</th>\n",
              "      <td>1095.800</td>\n",
              "      <td>41.0</td>\n",
              "    </tr>\n",
              "    <tr>\n",
              "      <th>2020-07-31 14:00:00</th>\n",
              "      <td>1110.650</td>\n",
              "      <td>47.0</td>\n",
              "    </tr>\n",
              "    <tr>\n",
              "      <th>2020-07-31 15:00:00</th>\n",
              "      <td>1122.510</td>\n",
              "      <td>53.0</td>\n",
              "    </tr>\n",
              "  </tbody>\n",
              "</table>\n",
              "</div>"
            ],
            "text/plain": [
              "                        close  Search Trends\n",
              "2020-07-31 11:00:00  1105.780           20.0\n",
              "2020-07-31 12:00:00  1087.925           32.0\n",
              "2020-07-31 13:00:00  1095.800           41.0\n",
              "2020-07-31 14:00:00  1110.650           47.0\n",
              "2020-07-31 15:00:00  1122.510           53.0"
            ]
          },
          "metadata": {},
          "output_type": "display_data"
        }
      ],
      "source": [
        "# Concatenate the df_mercado_stock DataFrame with the df_mercado_trends DataFrame\n",
        "# Concatenate the DataFrame by columns (axis=1), and drop and rows with only one column of data\n",
        "mercado_stock_trends_df = pd.concat([df_mercado_stock[['close']], df_mercado_trends], axis=1)\n",
        "mercado_stock_trends_df = mercado_stock_trends_df.dropna()\n",
        "# View the first and last five rows of the DataFrame\n",
        "display(mercado_stock_trends_df.head())\n",
        "display(mercado_stock_trends_df.tail())"
      ]
    },
    {
      "cell_type": "markdown",
      "metadata": {
        "id": "aWaMSI4U12UI"
      },
      "source": [
        "#### Step 2: Market events emerged during the year of 2020 that many companies found difficult. But, after the initial shock to global financial markets, new customers and revenue increased for e-commerce platforms. Slice the data to just the first half of 2020 (`2020-01` to `2020-06` in the DataFrame), and then plot the data. Do both time series indicate a common trend that’s consistent with this narrative?"
      ]
    },
    {
      "cell_type": "code",
      "execution_count": 23,
      "metadata": {
        "colab": {
          "base_uri": "https://localhost:8080/",
          "height": 395
        },
        "id": "1KTYdkfK12UI",
        "outputId": "b992d06b-4efc-4e4e-a972-73c71d3322ba"
      },
      "outputs": [
        {
          "data": {
            "text/html": [
              "<div>\n",
              "<style scoped>\n",
              "    .dataframe tbody tr th:only-of-type {\n",
              "        vertical-align: middle;\n",
              "    }\n",
              "\n",
              "    .dataframe tbody tr th {\n",
              "        vertical-align: top;\n",
              "    }\n",
              "\n",
              "    .dataframe thead th {\n",
              "        text-align: right;\n",
              "    }\n",
              "</style>\n",
              "<table border=\"1\" class=\"dataframe\">\n",
              "  <thead>\n",
              "    <tr style=\"text-align: right;\">\n",
              "      <th></th>\n",
              "      <th>close</th>\n",
              "      <th>Search Trends</th>\n",
              "    </tr>\n",
              "  </thead>\n",
              "  <tbody>\n",
              "    <tr>\n",
              "      <th>2020-01-02 09:00:00</th>\n",
              "      <td>601.085</td>\n",
              "      <td>9.0</td>\n",
              "    </tr>\n",
              "    <tr>\n",
              "      <th>2020-01-02 10:00:00</th>\n",
              "      <td>601.290</td>\n",
              "      <td>14.0</td>\n",
              "    </tr>\n",
              "    <tr>\n",
              "      <th>2020-01-02 11:00:00</th>\n",
              "      <td>615.410</td>\n",
              "      <td>25.0</td>\n",
              "    </tr>\n",
              "    <tr>\n",
              "      <th>2020-01-02 12:00:00</th>\n",
              "      <td>611.400</td>\n",
              "      <td>37.0</td>\n",
              "    </tr>\n",
              "    <tr>\n",
              "      <th>2020-01-02 13:00:00</th>\n",
              "      <td>611.830</td>\n",
              "      <td>50.0</td>\n",
              "    </tr>\n",
              "  </tbody>\n",
              "</table>\n",
              "</div>"
            ],
            "text/plain": [
              "                       close  Search Trends\n",
              "2020-01-02 09:00:00  601.085            9.0\n",
              "2020-01-02 10:00:00  601.290           14.0\n",
              "2020-01-02 11:00:00  615.410           25.0\n",
              "2020-01-02 12:00:00  611.400           37.0\n",
              "2020-01-02 13:00:00  611.830           50.0"
            ]
          },
          "metadata": {},
          "output_type": "display_data"
        },
        {
          "data": {
            "text/html": [
              "<div>\n",
              "<style scoped>\n",
              "    .dataframe tbody tr th:only-of-type {\n",
              "        vertical-align: middle;\n",
              "    }\n",
              "\n",
              "    .dataframe tbody tr th {\n",
              "        vertical-align: top;\n",
              "    }\n",
              "\n",
              "    .dataframe thead th {\n",
              "        text-align: right;\n",
              "    }\n",
              "</style>\n",
              "<table border=\"1\" class=\"dataframe\">\n",
              "  <thead>\n",
              "    <tr style=\"text-align: right;\">\n",
              "      <th></th>\n",
              "      <th>close</th>\n",
              "      <th>Search Trends</th>\n",
              "    </tr>\n",
              "  </thead>\n",
              "  <tbody>\n",
              "    <tr>\n",
              "      <th>2020-06-30 11:00:00</th>\n",
              "      <td>976.17</td>\n",
              "      <td>17.0</td>\n",
              "    </tr>\n",
              "    <tr>\n",
              "      <th>2020-06-30 12:00:00</th>\n",
              "      <td>977.50</td>\n",
              "      <td>27.0</td>\n",
              "    </tr>\n",
              "    <tr>\n",
              "      <th>2020-06-30 13:00:00</th>\n",
              "      <td>973.23</td>\n",
              "      <td>37.0</td>\n",
              "    </tr>\n",
              "    <tr>\n",
              "      <th>2020-06-30 14:00:00</th>\n",
              "      <td>976.50</td>\n",
              "      <td>45.0</td>\n",
              "    </tr>\n",
              "    <tr>\n",
              "      <th>2020-06-30 15:00:00</th>\n",
              "      <td>984.93</td>\n",
              "      <td>51.0</td>\n",
              "    </tr>\n",
              "  </tbody>\n",
              "</table>\n",
              "</div>"
            ],
            "text/plain": [
              "                      close  Search Trends\n",
              "2020-06-30 11:00:00  976.17           17.0\n",
              "2020-06-30 12:00:00  977.50           27.0\n",
              "2020-06-30 13:00:00  973.23           37.0\n",
              "2020-06-30 14:00:00  976.50           45.0\n",
              "2020-06-30 15:00:00  984.93           51.0"
            ]
          },
          "metadata": {},
          "output_type": "display_data"
        }
      ],
      "source": [
        "# For the combined dataframe, slice to just the first half of 2020 (2020-01 through 2020-06)\n",
        "first_half_2020 = mercado_stock_trends_df.loc['2020-01-01':'2020-06-30']\n",
        "\n",
        "# View the first and last five rows of first_half_2020 DataFrame\n",
        "display(first_half_2020.head())\n",
        "display(first_half_2020.tail())"
      ]
    },
    {
      "cell_type": "code",
      "execution_count": 24,
      "metadata": {
        "colab": {
          "base_uri": "https://localhost:8080/",
          "height": 512
        },
        "id": "bynt-3QV12UI",
        "outputId": "a5d4ca9f-99d0-4052-d6bc-04bd7a655353"
      },
      "outputs": [
        {
          "data": {
            "text/plain": [
              "array([<Axes: >, <Axes: >], dtype=object)"
            ]
          },
          "execution_count": 24,
          "metadata": {},
          "output_type": "execute_result"
        }
      ],
      "source": [
        "# Visualize the close and Search Trends data\n",
        "# Plot each column on a separate axes using the following syntax\n",
        "# `plot(subplots=True)`\n",
        "first_half_2020[['close', 'Search Trends']].plot(subplots=True, figsize=(10, 6))\n"
      ]
    },
    {
      "cell_type": "markdown",
      "metadata": {
        "id": "qnrxcTZT12UI"
      },
      "source": [
        "##### Answer the following question:"
      ]
    },
    {
      "cell_type": "markdown",
      "metadata": {
        "id": "vBkC9MNX12UJ"
      },
      "source": [
        "**Question:** Do both time series indicate a common trend that’s consistent with this narrative?\n",
        "\n",
        "**Answer:** Yes, after the initial shock to global markets in march 2020, there was a big increase in both search traffic and stock prices for MercadoLibre. This lines up with the view that e-commercers experienced increased growth as more customers \"turned\" to online shopping during the pandemic."
      ]
    },
    {
      "cell_type": "markdown",
      "metadata": {
        "id": "8MDbU6SD12UJ"
      },
      "source": [
        "#### Step 3: Create a new column in the DataFrame named “Lagged Search Trends” that offsets, or shifts, the search traffic by one hour. Create two additional columns:\n",
        "\n",
        "* “Stock Volatility”, which holds an exponentially weighted four-hour rolling average of the company’s stock volatility\n",
        "\n",
        "* “Hourly Stock Return”, which holds the percent change of the company's stock price on an hourly basis\n"
      ]
    },
    {
      "cell_type": "code",
      "execution_count": 25,
      "metadata": {
        "id": "nNFBId1812UJ"
      },
      "outputs": [],
      "source": [
        "# Create a new column in the mercado_stock_trends_df DataFrame called Lagged Search Trends\n",
        "# This column should shift the Search Trends information by one hour\n",
        "mercado_stock_trends_df['Lagged Search Trends'] = mercado_stock_trends_df['Search Trends'].shift(1)\n"
      ]
    },
    {
      "cell_type": "code",
      "execution_count": 26,
      "metadata": {
        "id": "ySKeTjVY12UJ"
      },
      "outputs": [],
      "source": [
        "# Create a new column in the mercado_stock_trends_df DataFrame called Stock Volatility\n",
        "# This column should calculate the standard deviation of the closing stock price return data over a 4 period rolling window\n",
        "mercado_stock_trends_df['Stock Volatility'] = mercado_stock_trends_df['close'].pct_change().rolling(window=4).std()\n"
      ]
    },
    {
      "cell_type": "code",
      "execution_count": 27,
      "metadata": {
        "colab": {
          "base_uri": "https://localhost:8080/",
          "height": 495
        },
        "id": "jIJOEdlS12UJ",
        "outputId": "86e5a183-b8c5-4b7b-b45f-eb36ddca4fea"
      },
      "outputs": [
        {
          "data": {
            "image/png": "[encoded data removed]",
            "text/plain": [
              "<Figure size 1000x600 with 1 Axes>"
            ]
          },
          "metadata": {},
          "output_type": "display_data"
        },
        {
          "data": {
            "image/png": "[encoded data removed]",
            "text/plain": [
              "<Figure size 800x600 with 2 Axes>"
            ]
          },
          "metadata": {},
          "output_type": "display_data"
        }
      ],
      "source": [
        "# Visualize the stock volatility\n",
        "mercado_stock_trends_df['Stock Volatility'].plot(\n",
        "    figsize=(8, 6),\n",
        "    )\n",
        "plt.show()\n"
      ]
    },
    {
      "cell_type": "markdown",
      "metadata": {
        "id": "FffeBt-w12UK"
      },
      "source": [
        "**Solution Note:** Note how volatility spiked, and tended to stay high, during the first half of 2020. This is a common characteristic of volatility in stock returns worldwide: high volatility days tend to be followed by yet more high volatility days. When it rains, it pours."
      ]
    },
    {
      "cell_type": "code",
      "execution_count": 28,
      "metadata": {
        "id": "nRBDj-I012UK"
      },
      "outputs": [],
      "source": [
        "# Create a new column in the mercado_stock_trends_df DataFrame called Hourly Stock Return\n",
        "# This column should calculate hourly return percentage of the closing price\n",
        "mercado_stock_trends_df['Hourly Stock Return'] = mercado_stock_trends_df['close'].pct_change()\n"
      ]
    },
    {
      "cell_type": "code",
      "execution_count": 29,
      "metadata": {
        "colab": {
          "base_uri": "https://localhost:8080/",
          "height": 395
        },
        "id": "e8_dQ_tT12UK",
        "outputId": "e2b399e0-4014-4bb5-f012-c2e90ccadf40"
      },
      "outputs": [
        {
          "data": {
            "text/html": [
              "<div>\n",
              "<style scoped>\n",
              "    .dataframe tbody tr th:only-of-type {\n",
              "        vertical-align: middle;\n",
              "    }\n",
              "\n",
              "    .dataframe tbody tr th {\n",
              "        vertical-align: top;\n",
              "    }\n",
              "\n",
              "    .dataframe thead th {\n",
              "        text-align: right;\n",
              "    }\n",
              "</style>\n",
              "<table border=\"1\" class=\"dataframe\">\n",
              "  <thead>\n",
              "    <tr style=\"text-align: right;\">\n",
              "      <th></th>\n",
              "      <th>close</th>\n",
              "      <th>Search Trends</th>\n",
              "      <th>Lagged Search Trends</th>\n",
              "      <th>Stock Volatility</th>\n",
              "      <th>Hourly Stock Return</th>\n",
              "    </tr>\n",
              "  </thead>\n",
              "  <tbody>\n",
              "    <tr>\n",
              "      <th>2016-06-01 09:00:00</th>\n",
              "      <td>135.16</td>\n",
              "      <td>6.0</td>\n",
              "      <td>NaN</td>\n",
              "      <td>NaN</td>\n",
              "      <td>NaN</td>\n",
              "    </tr>\n",
              "    <tr>\n",
              "      <th>2016-06-01 10:00:00</th>\n",
              "      <td>136.63</td>\n",
              "      <td>12.0</td>\n",
              "      <td>6.0</td>\n",
              "      <td>NaN</td>\n",
              "      <td>0.010876</td>\n",
              "    </tr>\n",
              "    <tr>\n",
              "      <th>2016-06-01 11:00:00</th>\n",
              "      <td>136.56</td>\n",
              "      <td>22.0</td>\n",
              "      <td>12.0</td>\n",
              "      <td>NaN</td>\n",
              "      <td>-0.000512</td>\n",
              "    </tr>\n",
              "    <tr>\n",
              "      <th>2016-06-01 12:00:00</th>\n",
              "      <td>136.42</td>\n",
              "      <td>33.0</td>\n",
              "      <td>22.0</td>\n",
              "      <td>NaN</td>\n",
              "      <td>-0.001025</td>\n",
              "    </tr>\n",
              "    <tr>\n",
              "      <th>2016-06-01 13:00:00</th>\n",
              "      <td>136.10</td>\n",
              "      <td>40.0</td>\n",
              "      <td>33.0</td>\n",
              "      <td>0.006134</td>\n",
              "      <td>-0.002346</td>\n",
              "    </tr>\n",
              "  </tbody>\n",
              "</table>\n",
              "</div>"
            ],
            "text/plain": [
              "                      close  Search Trends  Lagged Search Trends  \\\n",
              "2016-06-01 09:00:00  135.16            6.0                   NaN   \n",
              "2016-06-01 10:00:00  136.63           12.0                   6.0   \n",
              "2016-06-01 11:00:00  136.56           22.0                  12.0   \n",
              "2016-06-01 12:00:00  136.42           33.0                  22.0   \n",
              "2016-06-01 13:00:00  136.10           40.0                  33.0   \n",
              "\n",
              "                     Stock Volatility  Hourly Stock Return  \n",
              "2016-06-01 09:00:00               NaN                  NaN  \n",
              "2016-06-01 10:00:00               NaN             0.010876  \n",
              "2016-06-01 11:00:00               NaN            -0.000512  \n",
              "2016-06-01 12:00:00               NaN            -0.001025  \n",
              "2016-06-01 13:00:00          0.006134            -0.002346  "
            ]
          },
          "metadata": {},
          "output_type": "display_data"
        },
        {
          "data": {
            "text/html": [
              "<div>\n",
              "<style scoped>\n",
              "    .dataframe tbody tr th:only-of-type {\n",
              "        vertical-align: middle;\n",
              "    }\n",
              "\n",
              "    .dataframe tbody tr th {\n",
              "        vertical-align: top;\n",
              "    }\n",
              "\n",
              "    .dataframe thead th {\n",
              "        text-align: right;\n",
              "    }\n",
              "</style>\n",
              "<table border=\"1\" class=\"dataframe\">\n",
              "  <thead>\n",
              "    <tr style=\"text-align: right;\">\n",
              "      <th></th>\n",
              "      <th>close</th>\n",
              "      <th>Search Trends</th>\n",
              "      <th>Lagged Search Trends</th>\n",
              "      <th>Stock Volatility</th>\n",
              "      <th>Hourly Stock Return</th>\n",
              "    </tr>\n",
              "  </thead>\n",
              "  <tbody>\n",
              "    <tr>\n",
              "      <th>2020-07-31 11:00:00</th>\n",
              "      <td>1105.780</td>\n",
              "      <td>20.0</td>\n",
              "      <td>11.0</td>\n",
              "      <td>0.012837</td>\n",
              "      <td>0.006380</td>\n",
              "    </tr>\n",
              "    <tr>\n",
              "      <th>2020-07-31 12:00:00</th>\n",
              "      <td>1087.925</td>\n",
              "      <td>32.0</td>\n",
              "      <td>20.0</td>\n",
              "      <td>0.013549</td>\n",
              "      <td>-0.016147</td>\n",
              "    </tr>\n",
              "    <tr>\n",
              "      <th>2020-07-31 13:00:00</th>\n",
              "      <td>1095.800</td>\n",
              "      <td>41.0</td>\n",
              "      <td>32.0</td>\n",
              "      <td>0.013295</td>\n",
              "      <td>0.007239</td>\n",
              "    </tr>\n",
              "    <tr>\n",
              "      <th>2020-07-31 14:00:00</th>\n",
              "      <td>1110.650</td>\n",
              "      <td>47.0</td>\n",
              "      <td>41.0</td>\n",
              "      <td>0.013001</td>\n",
              "      <td>0.013552</td>\n",
              "    </tr>\n",
              "    <tr>\n",
              "      <th>2020-07-31 15:00:00</th>\n",
              "      <td>1122.510</td>\n",
              "      <td>53.0</td>\n",
              "      <td>47.0</td>\n",
              "      <td>0.013566</td>\n",
              "      <td>0.010678</td>\n",
              "    </tr>\n",
              "  </tbody>\n",
              "</table>\n",
              "</div>"
            ],
            "text/plain": [
              "                        close  Search Trends  Lagged Search Trends  \\\n",
              "2020-07-31 11:00:00  1105.780           20.0                  11.0   \n",
              "2020-07-31 12:00:00  1087.925           32.0                  20.0   \n",
              "2020-07-31 13:00:00  1095.800           41.0                  32.0   \n",
              "2020-07-31 14:00:00  1110.650           47.0                  41.0   \n",
              "2020-07-31 15:00:00  1122.510           53.0                  47.0   \n",
              "\n",
              "                     Stock Volatility  Hourly Stock Return  \n",
              "2020-07-31 11:00:00          0.012837             0.006380  \n",
              "2020-07-31 12:00:00          0.013549            -0.016147  \n",
              "2020-07-31 13:00:00          0.013295             0.007239  \n",
              "2020-07-31 14:00:00          0.013001             0.013552  \n",
              "2020-07-31 15:00:00          0.013566             0.010678  "
            ]
          },
          "metadata": {},
          "output_type": "display_data"
        }
      ],
      "source": [
        "# View the first and last five rows of the mercado_stock_trends_df DataFrame\n",
        "mercado_stock_trends_df - mercado_stock_trends_df[['close','Search Trends', 'Lagged Search Trends', 'Stock Volatility', 'Hourly Stock Return']]\n",
        "\n",
        "display(mercado_stock_trends_df.head())\n",
        "display(mercado_stock_trends_df.tail())"
      ]
    },
    {
      "cell_type": "markdown",
      "metadata": {
        "id": "0ijd-NMF12UK"
      },
      "source": [
        "#### Step 4: Review the time series correlation, and then answer the following question: Does a predictable relationship exist between the lagged search traffic and the stock volatility or between the lagged search traffic and the stock price returns?"
      ]
    },
    {
      "cell_type": "code",
      "execution_count": 30,
      "metadata": {
        "colab": {
          "base_uri": "https://localhost:8080/",
          "height": 143
        },
        "id": "SBTDo89212UK",
        "outputId": "8be5c02f-ab65-4199-da48-ca49783380b0"
      },
      "outputs": [
        {
          "data": {
            "text/html": [
              "<div>\n",
              "<style scoped>\n",
              "    .dataframe tbody tr th:only-of-type {\n",
              "        vertical-align: middle;\n",
              "    }\n",
              "\n",
              "    .dataframe tbody tr th {\n",
              "        vertical-align: top;\n",
              "    }\n",
              "\n",
              "    .dataframe thead th {\n",
              "        text-align: right;\n",
              "    }\n",
              "</style>\n",
              "<table border=\"1\" class=\"dataframe\">\n",
              "  <thead>\n",
              "    <tr style=\"text-align: right;\">\n",
              "      <th></th>\n",
              "      <th>Stock Volatility</th>\n",
              "      <th>Lagged Search Trends</th>\n",
              "      <th>Hourly Stock Return</th>\n",
              "    </tr>\n",
              "  </thead>\n",
              "  <tbody>\n",
              "    <tr>\n",
              "      <th>Stock Volatility</th>\n",
              "      <td>1.000000</td>\n",
              "      <td>-0.148938</td>\n",
              "      <td>0.061424</td>\n",
              "    </tr>\n",
              "    <tr>\n",
              "      <th>Lagged Search Trends</th>\n",
              "      <td>-0.148938</td>\n",
              "      <td>1.000000</td>\n",
              "      <td>0.017929</td>\n",
              "    </tr>\n",
              "    <tr>\n",
              "      <th>Hourly Stock Return</th>\n",
              "      <td>0.061424</td>\n",
              "      <td>0.017929</td>\n",
              "      <td>1.000000</td>\n",
              "    </tr>\n",
              "  </tbody>\n",
              "</table>\n",
              "</div>"
            ],
            "text/plain": [
              "                      Stock Volatility  Lagged Search Trends  \\\n",
              "Stock Volatility              1.000000             -0.148938   \n",
              "Lagged Search Trends         -0.148938              1.000000   \n",
              "Hourly Stock Return           0.061424              0.017929   \n",
              "\n",
              "                      Hourly Stock Return  \n",
              "Stock Volatility                 0.061424  \n",
              "Lagged Search Trends             0.017929  \n",
              "Hourly Stock Return              1.000000  "
            ]
          },
          "execution_count": 30,
          "metadata": {},
          "output_type": "execute_result"
        }
      ],
      "source": [
        "# Construct correlation table of Stock Volatility, Lagged Search Trends, and Hourly Stock Return\n",
        "mercado_stock_trends_df[['Stock Volatility', 'Lagged Search Trends', 'Hourly Stock Return']].corr()"
      ]
    },
    {
      "cell_type": "markdown",
      "metadata": {
        "id": "h-GH17Lx12UL"
      },
      "source": [
        "##### Answer the following question:\n"
      ]
    },
    {
      "cell_type": "markdown",
      "metadata": {
        "id": "VDe24Tla12UL"
      },
      "source": [
        "**Question:** Does a predictable relationship exist between the lagged search traffic and the stock volatility or between the lagged search traffic and the stock price returns?\n",
        "\n",
        "**Answer:** There is no predicatable relationship exsist between \"Lagged Search Traffic\" and \"Stock Volatility\" and also Stock Price Returns.  "
      ]
    },
    {
      "cell_type": "markdown",
      "metadata": {
        "id": "0pK2MFUk12UL"
      },
      "source": [
        "## Step 4: Create a Time Series Model with Prophet\n",
        "\n",
        "Now, you need to produce a time series model that analyzes and forecasts patterns in the hourly search data. To do so, complete the following steps:\n",
        "\n",
        "1. Set up the Google search data for a Prophet forecasting model.\n",
        "\n",
        "2. After estimating the model, plot the forecast. How's the near-term forecast for the popularity of MercadoLibre?\n",
        "\n",
        "3. Plot the individual time series components of the model to answer the following questions:\n",
        "\n",
        "    * What time of day exhibits the greatest popularity?\n",
        "\n",
        "    * Which day of the week gets the most search traffic?\n",
        "\n",
        "    * What's the lowest point for search traffic in the calendar year?\n"
      ]
    },
    {
      "cell_type": "markdown",
      "metadata": {
        "id": "jBewkPew12UL"
      },
      "source": [
        "#### Step 1: Set up the Google search data for a Prophet forecasting model."
      ]
    },
    {
      "cell_type": "code",
      "execution_count": 32,
      "metadata": {
        "colab": {
          "base_uri": "https://localhost:8080/",
          "height": 395
        },
        "id": "NQ69E7pl12UL",
        "outputId": "fb1cb53e-a44c-4be8-ce7c-e479b1aec55e"
      },
      "outputs": [
        {
          "data": {
            "text/html": [
              "<div>\n",
              "<style scoped>\n",
              "    .dataframe tbody tr th:only-of-type {\n",
              "        vertical-align: middle;\n",
              "    }\n",
              "\n",
              "    .dataframe tbody tr th {\n",
              "        vertical-align: top;\n",
              "    }\n",
              "\n",
              "    .dataframe thead th {\n",
              "        text-align: right;\n",
              "    }\n",
              "</style>\n",
              "<table border=\"1\" class=\"dataframe\">\n",
              "  <thead>\n",
              "    <tr style=\"text-align: right;\">\n",
              "      <th></th>\n",
              "      <th>ds</th>\n",
              "      <th>y</th>\n",
              "    </tr>\n",
              "  </thead>\n",
              "  <tbody>\n",
              "    <tr>\n",
              "      <th>0</th>\n",
              "      <td>2016-06-01 00:00:00</td>\n",
              "      <td>97</td>\n",
              "    </tr>\n",
              "    <tr>\n",
              "      <th>1</th>\n",
              "      <td>2016-06-01 01:00:00</td>\n",
              "      <td>92</td>\n",
              "    </tr>\n",
              "    <tr>\n",
              "      <th>2</th>\n",
              "      <td>2016-06-01 02:00:00</td>\n",
              "      <td>76</td>\n",
              "    </tr>\n",
              "    <tr>\n",
              "      <th>3</th>\n",
              "      <td>2016-06-01 03:00:00</td>\n",
              "      <td>60</td>\n",
              "    </tr>\n",
              "    <tr>\n",
              "      <th>4</th>\n",
              "      <td>2016-06-01 04:00:00</td>\n",
              "      <td>38</td>\n",
              "    </tr>\n",
              "  </tbody>\n",
              "</table>\n",
              "</div>"
            ],
            "text/plain": [
              "                   ds   y\n",
              "0 2016-06-01 00:00:00  97\n",
              "1 2016-06-01 01:00:00  92\n",
              "2 2016-06-01 02:00:00  76\n",
              "3 2016-06-01 03:00:00  60\n",
              "4 2016-06-01 04:00:00  38"
            ]
          },
          "metadata": {},
          "output_type": "display_data"
        },
        {
          "data": {
            "text/html": [
              "<div>\n",
              "<style scoped>\n",
              "    .dataframe tbody tr th:only-of-type {\n",
              "        vertical-align: middle;\n",
              "    }\n",
              "\n",
              "    .dataframe tbody tr th {\n",
              "        vertical-align: top;\n",
              "    }\n",
              "\n",
              "    .dataframe thead th {\n",
              "        text-align: right;\n",
              "    }\n",
              "</style>\n",
              "<table border=\"1\" class=\"dataframe\">\n",
              "  <thead>\n",
              "    <tr style=\"text-align: right;\">\n",
              "      <th></th>\n",
              "      <th>ds</th>\n",
              "      <th>y</th>\n",
              "    </tr>\n",
              "  </thead>\n",
              "  <tbody>\n",
              "    <tr>\n",
              "      <th>37101</th>\n",
              "      <td>2020-09-07 20:00:00</td>\n",
              "      <td>71</td>\n",
              "    </tr>\n",
              "    <tr>\n",
              "      <th>37102</th>\n",
              "      <td>2020-09-07 21:00:00</td>\n",
              "      <td>83</td>\n",
              "    </tr>\n",
              "    <tr>\n",
              "      <th>37103</th>\n",
              "      <td>2020-09-07 22:00:00</td>\n",
              "      <td>96</td>\n",
              "    </tr>\n",
              "    <tr>\n",
              "      <th>37104</th>\n",
              "      <td>2020-09-07 23:00:00</td>\n",
              "      <td>97</td>\n",
              "    </tr>\n",
              "    <tr>\n",
              "      <th>37105</th>\n",
              "      <td>2020-09-08 00:00:00</td>\n",
              "      <td>96</td>\n",
              "    </tr>\n",
              "  </tbody>\n",
              "</table>\n",
              "</div>"
            ],
            "text/plain": [
              "                       ds   y\n",
              "37101 2020-09-07 20:00:00  71\n",
              "37102 2020-09-07 21:00:00  83\n",
              "37103 2020-09-07 22:00:00  96\n",
              "37104 2020-09-07 23:00:00  97\n",
              "37105 2020-09-08 00:00:00  96"
            ]
          },
          "metadata": {},
          "output_type": "display_data"
        }
      ],
      "source": [
        "# Using the df_mercado_trends DataFrame, reset the index so the date information is no longer the index\n",
        "df_mercado_trends_reset = df_mercado_trends.reset_index()\n",
        "\n",
        "# Label the columns ds and y so that the syntax is recognized by Prophet\n",
        "df_mercado_trends_reset.columns = ['ds', 'y']\n",
        "\n",
        "# Drop an NaN values from the prophet_df DataFrame\n",
        "mercado_prophet_df = df_mercado_trends_reset.dropna()\n",
        "\n",
        "# View the first and last five rows of the mercado_prophet_df DataFrame\n",
        "display(mercado_prophet_df.head())\n",
        "display(mercado_prophet_df.tail())"
      ]
    },
    {
      "cell_type": "code",
      "execution_count": 33,
      "metadata": {
        "colab": {
          "base_uri": "https://localhost:8080/"
        },
        "id": "tXemEAJm12UM",
        "outputId": "d9b6c5f4-79fd-4c4f-8f9f-9ea61d00a9b0"
      },
      "outputs": [
        {
          "data": {
            "text/plain": [
              "<prophet.forecaster.Prophet at 0x201a7c867d0>"
            ]
          },
          "execution_count": 33,
          "metadata": {},
          "output_type": "execute_result"
        }
      ],
      "source": [
        "# Call the Prophet function, store as an object\n",
        "prophet_df = Prophet()\n",
        "prophet_df"
      ]
    },
    {
      "cell_type": "code",
      "execution_count": 34,
      "metadata": {
        "colab": {
          "base_uri": "https://localhost:8080/"
        },
        "id": "9bou0iwL12UM",
        "outputId": "ba77a991-285b-4296-88f6-2b07c171d259"
      },
      "outputs": [
        {
          "name": "stderr",
          "output_type": "stream",
          "text": [
            "00:18:42 - cmdstanpy - INFO - Chain [1] start processing\n",
            "00:19:03 - cmdstanpy - INFO - Chain [1] done processing\n"
          ]
        },
        {
          "data": {
            "text/plain": [
              "<prophet.forecaster.Prophet at 0x201a7c867d0>"
            ]
          },
          "execution_count": 34,
          "metadata": {},
          "output_type": "execute_result"
        }
      ],
      "source": [
        "# Fit the time-series model.\n",
        "prophet_df.fit(mercado_prophet_df)"
      ]
    },
    {
      "cell_type": "code",
      "execution_count": 35,
      "metadata": {
        "colab": {
          "base_uri": "https://localhost:8080/",
          "height": 241
        },
        "id": "BtJ5oDPE12UM",
        "outputId": "64e485ac-bcd9-483b-9198-7a2aaa1fdadb"
      },
      "outputs": [
        {
          "name": "stderr",
          "output_type": "stream",
          "text": [
            "c:\\Users\\degar\\anaconda3\\envs\\dev\\Lib\\site-packages\\prophet\\forecaster.py:1854: FutureWarning: 'H' is deprecated and will be removed in a future version, please use 'h' instead.\n",
            "  dates = pd.date_range(\n"
          ]
        },
        {
          "data": {
            "text/html": [
              "<div>\n",
              "<style scoped>\n",
              "    .dataframe tbody tr th:only-of-type {\n",
              "        vertical-align: middle;\n",
              "    }\n",
              "\n",
              "    .dataframe tbody tr th {\n",
              "        vertical-align: top;\n",
              "    }\n",
              "\n",
              "    .dataframe thead th {\n",
              "        text-align: right;\n",
              "    }\n",
              "</style>\n",
              "<table border=\"1\" class=\"dataframe\">\n",
              "  <thead>\n",
              "    <tr style=\"text-align: right;\">\n",
              "      <th></th>\n",
              "      <th>ds</th>\n",
              "    </tr>\n",
              "  </thead>\n",
              "  <tbody>\n",
              "    <tr>\n",
              "      <th>39101</th>\n",
              "      <td>2020-11-30 04:00:00</td>\n",
              "    </tr>\n",
              "    <tr>\n",
              "      <th>39102</th>\n",
              "      <td>2020-11-30 05:00:00</td>\n",
              "    </tr>\n",
              "    <tr>\n",
              "      <th>39103</th>\n",
              "      <td>2020-11-30 06:00:00</td>\n",
              "    </tr>\n",
              "    <tr>\n",
              "      <th>39104</th>\n",
              "      <td>2020-11-30 07:00:00</td>\n",
              "    </tr>\n",
              "    <tr>\n",
              "      <th>39105</th>\n",
              "      <td>2020-11-30 08:00:00</td>\n",
              "    </tr>\n",
              "  </tbody>\n",
              "</table>\n",
              "</div>"
            ],
            "text/plain": [
              "                       ds\n",
              "39101 2020-11-30 04:00:00\n",
              "39102 2020-11-30 05:00:00\n",
              "39103 2020-11-30 06:00:00\n",
              "39104 2020-11-30 07:00:00\n",
              "39105 2020-11-30 08:00:00"
            ]
          },
          "metadata": {},
          "output_type": "display_data"
        }
      ],
      "source": [
        "# Create a future dataframe to hold predictions\n",
        "# Make the prediction go out as far as 2000 hours (approx 80 days)\n",
        "future_mercado_trends = prophet_df.make_future_dataframe(periods=2000, freq='H')\n",
        "\n",
        "# View the last five rows of the future_mercado_trends DataFrame\n",
        "display(future_mercado_trends.tail())"
      ]
    },
    {
      "cell_type": "code",
      "execution_count": 40,
      "metadata": {
        "colab": {
          "base_uri": "https://localhost:8080/",
          "height": 211
        },
        "id": "-JVSYE6C12UN",
        "outputId": "1bf3dd7c-d229-421c-a5cd-0e5f31b0608c"
      },
      "outputs": [
        {
          "data": {
            "text/html": [
              "<div>\n",
              "<style scoped>\n",
              "    .dataframe tbody tr th:only-of-type {\n",
              "        vertical-align: middle;\n",
              "    }\n",
              "\n",
              "    .dataframe tbody tr th {\n",
              "        vertical-align: top;\n",
              "    }\n",
              "\n",
              "    .dataframe thead th {\n",
              "        text-align: right;\n",
              "    }\n",
              "</style>\n",
              "<table border=\"1\" class=\"dataframe\">\n",
              "  <thead>\n",
              "    <tr style=\"text-align: right;\">\n",
              "      <th></th>\n",
              "      <th>ds</th>\n",
              "      <th>trend</th>\n",
              "      <th>yhat_lower</th>\n",
              "      <th>yhat_upper</th>\n",
              "      <th>trend_lower</th>\n",
              "      <th>trend_upper</th>\n",
              "      <th>additive_terms</th>\n",
              "      <th>additive_terms_lower</th>\n",
              "      <th>additive_terms_upper</th>\n",
              "      <th>daily</th>\n",
              "      <th>...</th>\n",
              "      <th>weekly</th>\n",
              "      <th>weekly_lower</th>\n",
              "      <th>weekly_upper</th>\n",
              "      <th>yearly</th>\n",
              "      <th>yearly_lower</th>\n",
              "      <th>yearly_upper</th>\n",
              "      <th>multiplicative_terms</th>\n",
              "      <th>multiplicative_terms_lower</th>\n",
              "      <th>multiplicative_terms_upper</th>\n",
              "      <th>yhat</th>\n",
              "    </tr>\n",
              "  </thead>\n",
              "  <tbody>\n",
              "    <tr>\n",
              "      <th>0</th>\n",
              "      <td>2016-06-01 00:00:00</td>\n",
              "      <td>44.352625</td>\n",
              "      <td>81.653867</td>\n",
              "      <td>98.013411</td>\n",
              "      <td>44.352625</td>\n",
              "      <td>44.352625</td>\n",
              "      <td>45.307367</td>\n",
              "      <td>45.307367</td>\n",
              "      <td>45.307367</td>\n",
              "      <td>41.452720</td>\n",
              "      <td>...</td>\n",
              "      <td>1.860390</td>\n",
              "      <td>1.860390</td>\n",
              "      <td>1.860390</td>\n",
              "      <td>1.994257</td>\n",
              "      <td>1.994257</td>\n",
              "      <td>1.994257</td>\n",
              "      <td>0.0</td>\n",
              "      <td>0.0</td>\n",
              "      <td>0.0</td>\n",
              "      <td>89.659992</td>\n",
              "    </tr>\n",
              "    <tr>\n",
              "      <th>1</th>\n",
              "      <td>2016-06-01 01:00:00</td>\n",
              "      <td>44.353557</td>\n",
              "      <td>77.580108</td>\n",
              "      <td>94.700524</td>\n",
              "      <td>44.353557</td>\n",
              "      <td>44.353557</td>\n",
              "      <td>41.753097</td>\n",
              "      <td>41.753097</td>\n",
              "      <td>41.753097</td>\n",
              "      <td>37.943514</td>\n",
              "      <td>...</td>\n",
              "      <td>1.810288</td>\n",
              "      <td>1.810288</td>\n",
              "      <td>1.810288</td>\n",
              "      <td>1.999294</td>\n",
              "      <td>1.999294</td>\n",
              "      <td>1.999294</td>\n",
              "      <td>0.0</td>\n",
              "      <td>0.0</td>\n",
              "      <td>0.0</td>\n",
              "      <td>86.106654</td>\n",
              "    </tr>\n",
              "    <tr>\n",
              "      <th>2</th>\n",
              "      <td>2016-06-01 02:00:00</td>\n",
              "      <td>44.354489</td>\n",
              "      <td>66.853891</td>\n",
              "      <td>84.781832</td>\n",
              "      <td>44.354489</td>\n",
              "      <td>44.354489</td>\n",
              "      <td>31.429548</td>\n",
              "      <td>31.429548</td>\n",
              "      <td>31.429548</td>\n",
              "      <td>27.656552</td>\n",
              "      <td>...</td>\n",
              "      <td>1.768695</td>\n",
              "      <td>1.768695</td>\n",
              "      <td>1.768695</td>\n",
              "      <td>2.004301</td>\n",
              "      <td>2.004301</td>\n",
              "      <td>2.004301</td>\n",
              "      <td>0.0</td>\n",
              "      <td>0.0</td>\n",
              "      <td>0.0</td>\n",
              "      <td>75.784037</td>\n",
              "    </tr>\n",
              "    <tr>\n",
              "      <th>3</th>\n",
              "      <td>2016-06-01 03:00:00</td>\n",
              "      <td>44.355421</td>\n",
              "      <td>51.865460</td>\n",
              "      <td>69.021885</td>\n",
              "      <td>44.355421</td>\n",
              "      <td>44.355421</td>\n",
              "      <td>16.162280</td>\n",
              "      <td>16.162280</td>\n",
              "      <td>16.162280</td>\n",
              "      <td>12.417302</td>\n",
              "      <td>...</td>\n",
              "      <td>1.735704</td>\n",
              "      <td>1.735704</td>\n",
              "      <td>1.735704</td>\n",
              "      <td>2.009275</td>\n",
              "      <td>2.009275</td>\n",
              "      <td>2.009275</td>\n",
              "      <td>0.0</td>\n",
              "      <td>0.0</td>\n",
              "      <td>0.0</td>\n",
              "      <td>60.517701</td>\n",
              "    </tr>\n",
              "    <tr>\n",
              "      <th>4</th>\n",
              "      <td>2016-06-01 04:00:00</td>\n",
              "      <td>44.356353</td>\n",
              "      <td>35.911477</td>\n",
              "      <td>51.600682</td>\n",
              "      <td>44.356353</td>\n",
              "      <td>44.356353</td>\n",
              "      <td>-0.952639</td>\n",
              "      <td>-0.952639</td>\n",
              "      <td>-0.952639</td>\n",
              "      <td>-4.678127</td>\n",
              "      <td>...</td>\n",
              "      <td>1.711270</td>\n",
              "      <td>1.711270</td>\n",
              "      <td>1.711270</td>\n",
              "      <td>2.014218</td>\n",
              "      <td>2.014218</td>\n",
              "      <td>2.014218</td>\n",
              "      <td>0.0</td>\n",
              "      <td>0.0</td>\n",
              "      <td>0.0</td>\n",
              "      <td>43.403713</td>\n",
              "    </tr>\n",
              "  </tbody>\n",
              "</table>\n",
              "<p>5 rows × 22 columns</p>\n",
              "</div>"
            ],
            "text/plain": [
              "                   ds      trend  yhat_lower  yhat_upper  trend_lower  \\\n",
              "0 2016-06-01 00:00:00  44.352625   81.653867   98.013411    44.352625   \n",
              "1 2016-06-01 01:00:00  44.353557   77.580108   94.700524    44.353557   \n",
              "2 2016-06-01 02:00:00  44.354489   66.853891   84.781832    44.354489   \n",
              "3 2016-06-01 03:00:00  44.355421   51.865460   69.021885    44.355421   \n",
              "4 2016-06-01 04:00:00  44.356353   35.911477   51.600682    44.356353   \n",
              "\n",
              "   trend_upper  additive_terms  additive_terms_lower  additive_terms_upper  \\\n",
              "0    44.352625       45.307367             45.307367             45.307367   \n",
              "1    44.353557       41.753097             41.753097             41.753097   \n",
              "2    44.354489       31.429548             31.429548             31.429548   \n",
              "3    44.355421       16.162280             16.162280             16.162280   \n",
              "4    44.356353       -0.952639             -0.952639             -0.952639   \n",
              "\n",
              "       daily  ...    weekly  weekly_lower  weekly_upper    yearly  \\\n",
              "0  41.452720  ...  1.860390      1.860390      1.860390  1.994257   \n",
              "1  37.943514  ...  1.810288      1.810288      1.810288  1.999294   \n",
              "2  27.656552  ...  1.768695      1.768695      1.768695  2.004301   \n",
              "3  12.417302  ...  1.735704      1.735704      1.735704  2.009275   \n",
              "4  -4.678127  ...  1.711270      1.711270      1.711270  2.014218   \n",
              "\n",
              "   yearly_lower  yearly_upper  multiplicative_terms  \\\n",
              "0      1.994257      1.994257                   0.0   \n",
              "1      1.999294      1.999294                   0.0   \n",
              "2      2.004301      2.004301                   0.0   \n",
              "3      2.009275      2.009275                   0.0   \n",
              "4      2.014218      2.014218                   0.0   \n",
              "\n",
              "   multiplicative_terms_lower  multiplicative_terms_upper       yhat  \n",
              "0                         0.0                         0.0  89.659992  \n",
              "1                         0.0                         0.0  86.106654  \n",
              "2                         0.0                         0.0  75.784037  \n",
              "3                         0.0                         0.0  60.517701  \n",
              "4                         0.0                         0.0  43.403713  \n",
              "\n",
              "[5 rows x 22 columns]"
            ]
          },
          "metadata": {},
          "output_type": "display_data"
        }
      ],
      "source": [
        "# Create future dates for forecasting\n",
        "future_mercado_trends = prophet_df.make_future_dataframe(periods=365)  # Forecast for next 365 days\n",
        "\n",
        "# Make predictions using the future dataframe\n",
        "forecast_mercado_trends = prophet_df.predict(future_mercado_trends)  \n",
        "\n",
        "# Display the first five rows of the forecast_mercado_trends DataFrame\n",
        "display(forecast_mercado_trends.head())\n",
        "\n"
      ]
    },
    {
      "cell_type": "markdown",
      "metadata": {
        "id": "l5jjK41T12UN"
      },
      "source": [
        "#### Step 2: After estimating the model, plot the forecast. How's the near-term forecast for the popularity of MercadoLibre?"
      ]
    },
    {
      "cell_type": "code",
      "execution_count": 41,
      "metadata": {
        "colab": {
          "base_uri": "https://localhost:8080/",
          "height": 1000
        },
        "id": "wNf28QS212UN",
        "outputId": "f1864862-7794-4c4c-b746-cb3736731e5d"
      },
      "outputs": [
        {
          "data": {
            "image/png": "[encoded data removed]",
            "text/plain": [
              "<Figure size 1000x600 with 1 Axes>"
            ]
          },
          "execution_count": 41,
          "metadata": {},
          "output_type": "execute_result"
        }
      ],
      "source": [
        "# Plot the Prophet predictions for the Mercado trends data\n",
        "prophet_df.plot(forecast_mercado_trends)"
      ]
    },
    {
      "cell_type": "markdown",
      "metadata": {
        "id": "p3twBdEn12UO"
      },
      "source": [
        "##### Answer the following question:"
      ]
    },
    {
      "cell_type": "markdown",
      "metadata": {
        "id": "CDsZWZwE12UO"
      },
      "source": [
        "**Question:**  How's the near-term forecast for the popularity of MercadoLibre?\n",
        "\n",
        "**Answer:**\n",
        "  The near-term forecast suggests that MercadoLibre's popularity is expected to remain relatively stable with a potential slight upward trend, based on the current model and historical data.\n"
      ]
    },
    {
      "cell_type": "markdown",
      "metadata": {
        "id": "MY3-VMd612UO"
      },
      "source": [
        "#### Step 3: Plot the individual time series components of the model to answer the following questions:\n",
        "\n",
        "* What time of day exhibits the greatest popularity?\n",
        "\n",
        "* Which day of the week gets the most search traffic?\n",
        "\n",
        "* What's the lowest point for search traffic in the calendar year?\n"
      ]
    },
    {
      "cell_type": "code",
      "execution_count": 42,
      "metadata": {
        "colab": {
          "base_uri": "https://localhost:8080/",
          "height": 237
        },
        "id": "4r31Spg-12UO",
        "outputId": "c35d8d00-b552-41b8-a1ac-5cc3f64c16f2"
      },
      "outputs": [
        {
          "data": {
            "text/html": [
              "<div>\n",
              "<style scoped>\n",
              "    .dataframe tbody tr th:only-of-type {\n",
              "        vertical-align: middle;\n",
              "    }\n",
              "\n",
              "    .dataframe tbody tr th {\n",
              "        vertical-align: top;\n",
              "    }\n",
              "\n",
              "    .dataframe thead th {\n",
              "        text-align: right;\n",
              "    }\n",
              "</style>\n",
              "<table border=\"1\" class=\"dataframe\">\n",
              "  <thead>\n",
              "    <tr style=\"text-align: right;\">\n",
              "      <th></th>\n",
              "      <th>yhat</th>\n",
              "      <th>yhat_lower</th>\n",
              "      <th>yhat_upper</th>\n",
              "    </tr>\n",
              "    <tr>\n",
              "      <th>ds</th>\n",
              "      <th></th>\n",
              "      <th></th>\n",
              "      <th></th>\n",
              "    </tr>\n",
              "  </thead>\n",
              "  <tbody>\n",
              "    <tr>\n",
              "      <th>2016-06-01 00:00:00</th>\n",
              "      <td>89.659992</td>\n",
              "      <td>81.653867</td>\n",
              "      <td>98.013411</td>\n",
              "    </tr>\n",
              "    <tr>\n",
              "      <th>2016-06-01 01:00:00</th>\n",
              "      <td>86.106654</td>\n",
              "      <td>77.580108</td>\n",
              "      <td>94.700524</td>\n",
              "    </tr>\n",
              "    <tr>\n",
              "      <th>2016-06-01 02:00:00</th>\n",
              "      <td>75.784037</td>\n",
              "      <td>66.853891</td>\n",
              "      <td>84.781832</td>\n",
              "    </tr>\n",
              "    <tr>\n",
              "      <th>2016-06-01 03:00:00</th>\n",
              "      <td>60.517701</td>\n",
              "      <td>51.865460</td>\n",
              "      <td>69.021885</td>\n",
              "    </tr>\n",
              "    <tr>\n",
              "      <th>2016-06-01 04:00:00</th>\n",
              "      <td>43.403713</td>\n",
              "      <td>35.911477</td>\n",
              "      <td>51.600682</td>\n",
              "    </tr>\n",
              "  </tbody>\n",
              "</table>\n",
              "</div>"
            ],
            "text/plain": [
              "                          yhat  yhat_lower  yhat_upper\n",
              "ds                                                    \n",
              "2016-06-01 00:00:00  89.659992   81.653867   98.013411\n",
              "2016-06-01 01:00:00  86.106654   77.580108   94.700524\n",
              "2016-06-01 02:00:00  75.784037   66.853891   84.781832\n",
              "2016-06-01 03:00:00  60.517701   51.865460   69.021885\n",
              "2016-06-01 04:00:00  43.403713   35.911477   51.600682"
            ]
          },
          "execution_count": 42,
          "metadata": {},
          "output_type": "execute_result"
        }
      ],
      "source": [
        "# Set the index in the forecast_mercado_trends DataFrame to the ds datetime column\n",
        "forecast_mercado_trends = forecast_mercado_trends.set_index(\"ds\")\n",
        "\n",
        "# View the only the yhat,yhat_lower and yhat_upper columns from the DataFrame\n",
        "\n",
        "forecast_mercado_trends[['yhat', 'yhat_lower', 'yhat_upper']].head()"
      ]
    },
    {
      "cell_type": "code",
      "execution_count": 43,
      "metadata": {
        "colab": {
          "base_uri": "https://localhost:8080/",
          "height": 429
        },
        "id": "KfF-Ikn6F9Ug",
        "outputId": "0e40ae0f-58a8-45c6-fa70-0104602c570e"
      },
      "outputs": [
        {
          "data": {
            "text/html": [
              "<div>\n",
              "<style scoped>\n",
              "    .dataframe tbody tr th:only-of-type {\n",
              "        vertical-align: middle;\n",
              "    }\n",
              "\n",
              "    .dataframe tbody tr th {\n",
              "        vertical-align: top;\n",
              "    }\n",
              "\n",
              "    .dataframe thead th {\n",
              "        text-align: right;\n",
              "    }\n",
              "</style>\n",
              "<table border=\"1\" class=\"dataframe\">\n",
              "  <thead>\n",
              "    <tr style=\"text-align: right;\">\n",
              "      <th></th>\n",
              "      <th>ds</th>\n",
              "      <th>trend</th>\n",
              "      <th>yhat_lower</th>\n",
              "      <th>yhat_upper</th>\n",
              "      <th>trend_lower</th>\n",
              "      <th>trend_upper</th>\n",
              "      <th>additive_terms</th>\n",
              "      <th>additive_terms_lower</th>\n",
              "      <th>additive_terms_upper</th>\n",
              "      <th>daily</th>\n",
              "      <th>...</th>\n",
              "      <th>weekly</th>\n",
              "      <th>weekly_lower</th>\n",
              "      <th>weekly_upper</th>\n",
              "      <th>yearly</th>\n",
              "      <th>yearly_lower</th>\n",
              "      <th>yearly_upper</th>\n",
              "      <th>multiplicative_terms</th>\n",
              "      <th>multiplicative_terms_lower</th>\n",
              "      <th>multiplicative_terms_upper</th>\n",
              "      <th>yhat</th>\n",
              "    </tr>\n",
              "  </thead>\n",
              "  <tbody>\n",
              "    <tr>\n",
              "      <th>0</th>\n",
              "      <td>2016-06-01 00:00:00</td>\n",
              "      <td>44.352625</td>\n",
              "      <td>81.446928</td>\n",
              "      <td>97.922141</td>\n",
              "      <td>44.352625</td>\n",
              "      <td>44.352625</td>\n",
              "      <td>45.307367</td>\n",
              "      <td>45.307367</td>\n",
              "      <td>45.307367</td>\n",
              "      <td>41.452720</td>\n",
              "      <td>...</td>\n",
              "      <td>1.860390</td>\n",
              "      <td>1.860390</td>\n",
              "      <td>1.860390</td>\n",
              "      <td>1.994257</td>\n",
              "      <td>1.994257</td>\n",
              "      <td>1.994257</td>\n",
              "      <td>0.0</td>\n",
              "      <td>0.0</td>\n",
              "      <td>0.0</td>\n",
              "      <td>89.659992</td>\n",
              "    </tr>\n",
              "    <tr>\n",
              "      <th>1</th>\n",
              "      <td>2016-06-01 01:00:00</td>\n",
              "      <td>44.353557</td>\n",
              "      <td>78.355017</td>\n",
              "      <td>94.645262</td>\n",
              "      <td>44.353557</td>\n",
              "      <td>44.353557</td>\n",
              "      <td>41.753097</td>\n",
              "      <td>41.753097</td>\n",
              "      <td>41.753097</td>\n",
              "      <td>37.943514</td>\n",
              "      <td>...</td>\n",
              "      <td>1.810288</td>\n",
              "      <td>1.810288</td>\n",
              "      <td>1.810288</td>\n",
              "      <td>1.999294</td>\n",
              "      <td>1.999294</td>\n",
              "      <td>1.999294</td>\n",
              "      <td>0.0</td>\n",
              "      <td>0.0</td>\n",
              "      <td>0.0</td>\n",
              "      <td>86.106654</td>\n",
              "    </tr>\n",
              "    <tr>\n",
              "      <th>2</th>\n",
              "      <td>2016-06-01 02:00:00</td>\n",
              "      <td>44.354489</td>\n",
              "      <td>67.805626</td>\n",
              "      <td>84.192745</td>\n",
              "      <td>44.354489</td>\n",
              "      <td>44.354489</td>\n",
              "      <td>31.429548</td>\n",
              "      <td>31.429548</td>\n",
              "      <td>31.429548</td>\n",
              "      <td>27.656552</td>\n",
              "      <td>...</td>\n",
              "      <td>1.768695</td>\n",
              "      <td>1.768695</td>\n",
              "      <td>1.768695</td>\n",
              "      <td>2.004301</td>\n",
              "      <td>2.004301</td>\n",
              "      <td>2.004301</td>\n",
              "      <td>0.0</td>\n",
              "      <td>0.0</td>\n",
              "      <td>0.0</td>\n",
              "      <td>75.784037</td>\n",
              "    </tr>\n",
              "    <tr>\n",
              "      <th>3</th>\n",
              "      <td>2016-06-01 03:00:00</td>\n",
              "      <td>44.355421</td>\n",
              "      <td>51.748864</td>\n",
              "      <td>69.434515</td>\n",
              "      <td>44.355421</td>\n",
              "      <td>44.355421</td>\n",
              "      <td>16.162280</td>\n",
              "      <td>16.162280</td>\n",
              "      <td>16.162280</td>\n",
              "      <td>12.417302</td>\n",
              "      <td>...</td>\n",
              "      <td>1.735704</td>\n",
              "      <td>1.735704</td>\n",
              "      <td>1.735704</td>\n",
              "      <td>2.009275</td>\n",
              "      <td>2.009275</td>\n",
              "      <td>2.009275</td>\n",
              "      <td>0.0</td>\n",
              "      <td>0.0</td>\n",
              "      <td>0.0</td>\n",
              "      <td>60.517701</td>\n",
              "    </tr>\n",
              "    <tr>\n",
              "      <th>4</th>\n",
              "      <td>2016-06-01 04:00:00</td>\n",
              "      <td>44.356353</td>\n",
              "      <td>34.919647</td>\n",
              "      <td>51.560523</td>\n",
              "      <td>44.356353</td>\n",
              "      <td>44.356353</td>\n",
              "      <td>-0.952639</td>\n",
              "      <td>-0.952639</td>\n",
              "      <td>-0.952639</td>\n",
              "      <td>-4.678127</td>\n",
              "      <td>...</td>\n",
              "      <td>1.711270</td>\n",
              "      <td>1.711270</td>\n",
              "      <td>1.711270</td>\n",
              "      <td>2.014218</td>\n",
              "      <td>2.014218</td>\n",
              "      <td>2.014218</td>\n",
              "      <td>0.0</td>\n",
              "      <td>0.0</td>\n",
              "      <td>0.0</td>\n",
              "      <td>43.403713</td>\n",
              "    </tr>\n",
              "  </tbody>\n",
              "</table>\n",
              "<p>5 rows × 22 columns</p>\n",
              "</div>"
            ],
            "text/plain": [
              "                   ds      trend  yhat_lower  yhat_upper  trend_lower  \\\n",
              "0 2016-06-01 00:00:00  44.352625   81.446928   97.922141    44.352625   \n",
              "1 2016-06-01 01:00:00  44.353557   78.355017   94.645262    44.353557   \n",
              "2 2016-06-01 02:00:00  44.354489   67.805626   84.192745    44.354489   \n",
              "3 2016-06-01 03:00:00  44.355421   51.748864   69.434515    44.355421   \n",
              "4 2016-06-01 04:00:00  44.356353   34.919647   51.560523    44.356353   \n",
              "\n",
              "   trend_upper  additive_terms  additive_terms_lower  additive_terms_upper  \\\n",
              "0    44.352625       45.307367             45.307367             45.307367   \n",
              "1    44.353557       41.753097             41.753097             41.753097   \n",
              "2    44.354489       31.429548             31.429548             31.429548   \n",
              "3    44.355421       16.162280             16.162280             16.162280   \n",
              "4    44.356353       -0.952639             -0.952639             -0.952639   \n",
              "\n",
              "       daily  ...    weekly  weekly_lower  weekly_upper    yearly  \\\n",
              "0  41.452720  ...  1.860390      1.860390      1.860390  1.994257   \n",
              "1  37.943514  ...  1.810288      1.810288      1.810288  1.999294   \n",
              "2  27.656552  ...  1.768695      1.768695      1.768695  2.004301   \n",
              "3  12.417302  ...  1.735704      1.735704      1.735704  2.009275   \n",
              "4  -4.678127  ...  1.711270      1.711270      1.711270  2.014218   \n",
              "\n",
              "   yearly_lower  yearly_upper  multiplicative_terms  \\\n",
              "0      1.994257      1.994257                   0.0   \n",
              "1      1.999294      1.999294                   0.0   \n",
              "2      2.004301      2.004301                   0.0   \n",
              "3      2.009275      2.009275                   0.0   \n",
              "4      2.014218      2.014218                   0.0   \n",
              "\n",
              "   multiplicative_terms_lower  multiplicative_terms_upper       yhat  \n",
              "0                         0.0                         0.0  89.659992  \n",
              "1                         0.0                         0.0  86.106654  \n",
              "2                         0.0                         0.0  75.784037  \n",
              "3                         0.0                         0.0  60.517701  \n",
              "4                         0.0                         0.0  43.403713  \n",
              "\n",
              "[5 rows x 22 columns]"
            ]
          },
          "metadata": {},
          "output_type": "display_data"
        }
      ],
      "source": [
        "# Make the predictions for the trend data using the future_mercado_trends DataFrame\n",
        "forecast_mercado_trends = prophet_df.predict(future_mercado_trends)\n",
        "\n",
        "# Display the first five rows of the forecast_mercado_trends DataFrame\n",
        "display(forecast_mercado_trends.head())"
      ]
    },
    {
      "cell_type": "markdown",
      "metadata": {
        "id": "LSAl_1m812UO"
      },
      "source": [
        "Solutions Note: `yhat` represents the most likely (average) forecast, whereas `yhat_lower` and `yhat_upper` represents the worst and best case prediction (based on what are known as 95% confidence intervals)."
      ]
    },
    {
      "cell_type": "code",
      "execution_count": 44,
      "metadata": {
        "colab": {
          "base_uri": "https://localhost:8080/",
          "height": 607
        },
        "id": "qYJDjsb312UP",
        "outputId": "918e7132-a91a-44d1-a882-1fd3d22935a8"
      },
      "outputs": [
        {
          "data": {
            "text/plain": [
              "<Axes: >"
            ]
          },
          "execution_count": 44,
          "metadata": {},
          "output_type": "execute_result"
        }
      ],
      "source": [
        "# From the forecast_mercado_trends DataFrame, plot the data to visualize\n",
        "#  the yhat, yhat_lower, and yhat_upper columns over the last 2000 hours\n",
        "forecast_mercado_trends[['yhat', 'yhat_lower', 'yhat_upper']].tail(2000).plot(figsize=(10, 6))"
      ]
    },
    {
      "cell_type": "code",
      "execution_count": 45,
      "metadata": {
        "colab": {
          "base_uri": "https://localhost:8080/",
          "height": 1000
        },
        "id": "eetFbEwC12UP",
        "outputId": "0799a435-b215-458b-9fe5-4d1d988c3318"
      },
      "outputs": [],
      "source": [
        "# Reset the index in the forecast_mercado_trends DataFrame\n",
        "forecast_mercado_trends = forecast_mercado_trends.reset_index()\n",
        "\n",
        "# Use the plot_components function to visualize the forecast results\n",
        "# for the forecast_mercado_trends DataFrame\n",
        "fig = prophet_df.plot_components(forecast_mercado_trends)"
      ]
    },
    {
      "cell_type": "markdown",
      "metadata": {
        "id": "Xan9nO9O12UP"
      },
      "source": [
        "##### Answer the following questions:"
      ]
    },
    {
      "cell_type": "markdown",
      "metadata": {
        "id": "FmWgULWo12UQ"
      },
      "source": [
        "**Question:** What time of day exhibits the greatest popularity?\n",
        "\n",
        "**Answer:** On the daily chart it is \"20:34\"."
      ]
    },
    {
      "cell_type": "markdown",
      "metadata": {
        "id": "JkkXUATk12UQ"
      },
      "source": [
        ":**Question:** Which day of week gets the most search traffic?\n",
        "   \n",
        "**Answer:**\"Tuesday\" on the Weekly chart has seen the most traffic."
      ]
    },
    {
      "cell_type": "markdown",
      "metadata": {
        "id": "EUeR3iHu12UQ"
      },
      "source": [
        "**Question:** What's the lowest point for search traffic in the calendar year?\n",
        "\n",
        "**Answer:**November has the lowest search traffic throughout the year.\n"
      ]
    }
  ],
  "metadata": {
    "colab": {
      "provenance": []
    },
    "kernelspec": {
      "display_name": "Python 3 (ipykernel)",
      "language": "python",
      "name": "python3"
    },
    "language_info": {
      "codemirror_mode": {
        "name": "ipython",
        "version": 3
      },
      "file_extension": ".py",
      "mimetype": "text/x-python",
      "name": "python",
      "nbconvert_exporter": "python",
      "pygments_lexer": "ipython3",
      "version": "3.11.10"
    }
  },
  "nbformat": 4,
  "nbformat_minor": 0
}
